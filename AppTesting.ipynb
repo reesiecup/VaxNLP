{
 "cells": [
  {
   "cell_type": "code",
   "execution_count": 113,
   "metadata": {},
   "outputs": [],
   "source": [
    "import pickle\n",
    "from nltk.corpus import stopwords\n",
    "from nltk.tokenize import word_tokenize\n",
    "from nltk.stem import PorterStemmer\n",
    "import re"
   ]
  },
  {
   "cell_type": "code",
   "execution_count": 114,
   "metadata": {},
   "outputs": [
    {
     "name": "stdout",
     "output_type": "stream",
     "text": [
      "“As I walked over to his crib, I found my beautiful son Nicholas on his belly with his knees bent in towards his chest, his head was slightly tilted to the left and when I picked him up, I quickly realized he was gone: he was so cold, blue and mottled. As a nurse, I knew he had been gone for a while and there was no chance of reviving him.” -Marjorie Catone\n"
     ]
    }
   ],
   "source": [
    "msg = input()"
   ]
  },
  {
   "cell_type": "code",
   "execution_count": 115,
   "metadata": {},
   "outputs": [],
   "source": [
    "OpenWordFeatures = open(\"WordFeatures.pickle\", \"rb\")\n",
    "WordFeatures = pickle.load(OpenWordFeatures)\n",
    "OpenWordFeatures.close()\n",
    "\n",
    "OpenStopWords = open(\"StopWords.pickle\", \"rb\")\n",
    "StopWords = pickle.load(OpenStopWords)\n",
    "OpenStopWords.close()"
   ]
  },
  {
   "cell_type": "code",
   "execution_count": 116,
   "metadata": {},
   "outputs": [],
   "source": [
    "NoLink = re.sub(r'''(?i)\\b((?:https?://|www\\d{0,3}[.]|[a-z0-9.\\-]+[.][a-z]{2,4}/)(?:[^\\s()<>]+|\\(([^\\s()<>]+|(\\([^\\s()<>]+\\)))*\\))+(?:\\(([^\\s()<>]+|(\\([^\\s()<>]+\\)))*\\)|[^\\s`!()\\[\\]{};:'\".,<>?«»“”‘’]))''', \" \", msg)\n",
    "NoPunc = re.sub(r'[^\\w\\s]','',NoLink)\n",
    "WordTokens = word_tokenize(NoPunc.lower())\n",
    "ps = PorterStemmer()\n",
    "WordStems = [ps.stem(w) for w in WordTokens]\n",
    "FilteredSentence = [w for w in WordStems if not w in StopWords] "
   ]
  },
  {
   "cell_type": "code",
   "execution_count": 117,
   "metadata": {},
   "outputs": [],
   "source": [
    "words = set(FilteredSentence)\n",
    "featuresets = {} \n",
    "for w in WordFeatures:\n",
    "    featuresets[w] = (w in words)"
   ]
  },
  {
   "cell_type": "code",
   "execution_count": 118,
   "metadata": {},
   "outputs": [],
   "source": [
    "ClassifierF = open(\"NaiveBayes.pickle\", \"rb\")\n",
    "classifier = pickle.load(ClassifierF)\n",
    "ClassifierF.close()"
   ]
  },
  {
   "cell_type": "code",
   "execution_count": 119,
   "metadata": {},
   "outputs": [
    {
     "data": {
      "text/plain": [
       "'AntiVax'"
      ]
     },
     "execution_count": 119,
     "metadata": {},
     "output_type": "execute_result"
    }
   ],
   "source": [
    "classifier.classify(featuresets)"
   ]
  }
 ],
 "metadata": {
  "kernelspec": {
   "display_name": "Python [conda env:python37]",
   "language": "python",
   "name": "conda-env-python37-py"
  },
  "language_info": {
   "codemirror_mode": {
    "name": "ipython",
    "version": 3
   },
   "file_extension": ".py",
   "mimetype": "text/x-python",
   "name": "python",
   "nbconvert_exporter": "python",
   "pygments_lexer": "ipython3",
   "version": "3.7.3"
  }
 },
 "nbformat": 4,
 "nbformat_minor": 2
}
